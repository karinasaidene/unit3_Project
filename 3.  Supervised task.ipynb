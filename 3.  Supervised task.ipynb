{
 "cells": [
  {
   "cell_type": "markdown",
   "id": "bc183445",
   "metadata": {},
   "source": [
    "<img src=\"Logo.png\" width=\"100\" align=\"left\"/> \n",
    "\n",
    "# <center> Unit 3 Project </center>\n",
    "#  <center> Third section : supervised task </center>\n",
    "\n",
    "In this notebook you will be building and training a supervised learning model to classify your data."
   ]
  },
  {
   "cell_type": "markdown",
   "id": "be234200",
   "metadata": {},
   "source": [
    "For this task we will be using another classification model \"The random forests\" model.\n",
    "\n",
    "Steps for this task: \n",
    "1. Load the already clustered dataset \n",
    "2. Take into consideration that in this task we will not be using the already added column \"Cluster\" \n",
    "3. Split your data.\n",
    "3. Build your model using the SKlearn RandomForestClassifier class \n",
    "4. classify your data and test the performance of your model \n",
    "5. Evaluate the model ( accepted models should have at least an accuracy of 86%). Play with hyper parameters and provide a report about that.\n",
    "6. Provide evidence on the quality of your model (not overfitted good metrics)\n",
    "7. Create a new test dataset that contains the testset + an additional column called \"predicted_class\" stating the class predicted by your random forest classifier for each data point of the test set."
   ]
  },
  {
   "cell_type": "markdown",
   "id": "eca14fca",
   "metadata": {},
   "source": [
    "## 1. Load the data and split the data:"
   ]
  },
  {
   "cell_type": "code",
   "execution_count": 1,
   "id": "34235ce2",
   "metadata": {},
   "outputs": [],
   "source": [
    "from sklearn.ensemble import RandomForestClassifier\n",
    "import pandas as pd \n",
    "from sklearn.model_selection import train_test_split"
   ]
  },
  {
   "cell_type": "code",
   "execution_count": 2,
   "id": "89b318b7",
   "metadata": {
    "scrolled": false
   },
   "outputs": [
    {
     "data": {
      "text/html": [
       "<div>\n",
       "<style scoped>\n",
       "    .dataframe tbody tr th:only-of-type {\n",
       "        vertical-align: middle;\n",
       "    }\n",
       "\n",
       "    .dataframe tbody tr th {\n",
       "        vertical-align: top;\n",
       "    }\n",
       "\n",
       "    .dataframe thead th {\n",
       "        text-align: right;\n",
       "    }\n",
       "</style>\n",
       "<table border=\"1\" class=\"dataframe\">\n",
       "  <thead>\n",
       "    <tr style=\"text-align: right;\">\n",
       "      <th></th>\n",
       "      <th>ID</th>\n",
       "      <th>Category</th>\n",
       "      <th>Age</th>\n",
       "      <th>Sex</th>\n",
       "      <th>ALB</th>\n",
       "      <th>ALP</th>\n",
       "      <th>ALT</th>\n",
       "      <th>AST</th>\n",
       "      <th>BIL</th>\n",
       "      <th>CHE</th>\n",
       "      <th>CHOL</th>\n",
       "      <th>CREA</th>\n",
       "      <th>GGT</th>\n",
       "      <th>PROT</th>\n",
       "      <th>cluster</th>\n",
       "    </tr>\n",
       "  </thead>\n",
       "  <tbody>\n",
       "    <tr>\n",
       "      <th>0</th>\n",
       "      <td>1</td>\n",
       "      <td>0</td>\n",
       "      <td>32</td>\n",
       "      <td>1</td>\n",
       "      <td>38.5</td>\n",
       "      <td>52.5</td>\n",
       "      <td>7.7</td>\n",
       "      <td>22.1</td>\n",
       "      <td>7.5</td>\n",
       "      <td>6.93</td>\n",
       "      <td>3.23</td>\n",
       "      <td>106.0</td>\n",
       "      <td>12.1</td>\n",
       "      <td>69.0</td>\n",
       "      <td>3</td>\n",
       "    </tr>\n",
       "    <tr>\n",
       "      <th>1</th>\n",
       "      <td>2</td>\n",
       "      <td>0</td>\n",
       "      <td>32</td>\n",
       "      <td>1</td>\n",
       "      <td>38.5</td>\n",
       "      <td>70.3</td>\n",
       "      <td>18.0</td>\n",
       "      <td>24.7</td>\n",
       "      <td>3.9</td>\n",
       "      <td>11.17</td>\n",
       "      <td>4.80</td>\n",
       "      <td>74.0</td>\n",
       "      <td>15.6</td>\n",
       "      <td>76.5</td>\n",
       "      <td>3</td>\n",
       "    </tr>\n",
       "    <tr>\n",
       "      <th>2</th>\n",
       "      <td>3</td>\n",
       "      <td>0</td>\n",
       "      <td>32</td>\n",
       "      <td>1</td>\n",
       "      <td>46.9</td>\n",
       "      <td>74.7</td>\n",
       "      <td>36.2</td>\n",
       "      <td>52.6</td>\n",
       "      <td>6.1</td>\n",
       "      <td>8.84</td>\n",
       "      <td>5.20</td>\n",
       "      <td>86.0</td>\n",
       "      <td>33.2</td>\n",
       "      <td>79.3</td>\n",
       "      <td>3</td>\n",
       "    </tr>\n",
       "    <tr>\n",
       "      <th>3</th>\n",
       "      <td>4</td>\n",
       "      <td>0</td>\n",
       "      <td>32</td>\n",
       "      <td>1</td>\n",
       "      <td>43.2</td>\n",
       "      <td>52.0</td>\n",
       "      <td>30.6</td>\n",
       "      <td>22.6</td>\n",
       "      <td>18.9</td>\n",
       "      <td>7.33</td>\n",
       "      <td>4.74</td>\n",
       "      <td>80.0</td>\n",
       "      <td>33.8</td>\n",
       "      <td>75.7</td>\n",
       "      <td>3</td>\n",
       "    </tr>\n",
       "    <tr>\n",
       "      <th>4</th>\n",
       "      <td>5</td>\n",
       "      <td>0</td>\n",
       "      <td>32</td>\n",
       "      <td>1</td>\n",
       "      <td>39.2</td>\n",
       "      <td>74.1</td>\n",
       "      <td>32.6</td>\n",
       "      <td>24.8</td>\n",
       "      <td>9.6</td>\n",
       "      <td>9.15</td>\n",
       "      <td>4.32</td>\n",
       "      <td>76.0</td>\n",
       "      <td>29.9</td>\n",
       "      <td>68.7</td>\n",
       "      <td>3</td>\n",
       "    </tr>\n",
       "  </tbody>\n",
       "</table>\n",
       "</div>"
      ],
      "text/plain": [
       "   ID  Category  Age  Sex   ALB   ALP   ALT   AST   BIL    CHE  CHOL   CREA  \\\n",
       "0   1         0   32    1  38.5  52.5   7.7  22.1   7.5   6.93  3.23  106.0   \n",
       "1   2         0   32    1  38.5  70.3  18.0  24.7   3.9  11.17  4.80   74.0   \n",
       "2   3         0   32    1  46.9  74.7  36.2  52.6   6.1   8.84  5.20   86.0   \n",
       "3   4         0   32    1  43.2  52.0  30.6  22.6  18.9   7.33  4.74   80.0   \n",
       "4   5         0   32    1  39.2  74.1  32.6  24.8   9.6   9.15  4.32   76.0   \n",
       "\n",
       "    GGT  PROT  cluster  \n",
       "0  12.1  69.0        3  \n",
       "1  15.6  76.5        3  \n",
       "2  33.2  79.3        3  \n",
       "3  33.8  75.7        3  \n",
       "4  29.9  68.7        3  "
      ]
     },
     "execution_count": 2,
     "metadata": {},
     "output_type": "execute_result"
    }
   ],
   "source": [
    "# To-Do:  load the data \n",
    "df = pd.read_csv(\"HepatitisCdata_2.csv\")\n",
    "df.head()"
   ]
  },
  {
   "cell_type": "code",
   "execution_count": 6,
   "id": "9d2bdcc6",
   "metadata": {},
   "outputs": [],
   "source": [
    "# To-Do : keep only the columns to be used : all features except ID, cluster \n",
    "df1 = df.iloc[:,2:14]\n",
    "import numpy as np\n",
    "X=np.array(df1)\n",
    "#extract the target which is in our case Category column\n",
    "y=df['Category']\n",
    "# The target here is the Category column \n",
    "# Do not forget to split your data (this is a classification task)\n",
    "\n",
    "# test set size should be 20% of the data \n",
    "\n",
    "#here I m going to split the data set into training and testing subest\n",
    "X_train, X_test, y_train, y_test = train_test_split(X,y,test_size=0.2,random_state=0)"
   ]
  },
  {
   "cell_type": "markdown",
   "id": "523519ae",
   "metadata": {},
   "source": [
    "## 2. Building the model and training and evaluate the performance: "
   ]
  },
  {
   "cell_type": "code",
   "execution_count": 7,
   "id": "2ea837ce",
   "metadata": {},
   "outputs": [],
   "source": [
    "# To-do build the model and train it \n",
    "# note that you will be providing explanation about the hyper parameter tuning \n",
    "# So you will be iterating a number of times before getting the desired performance \n"
   ]
  },
  {
   "cell_type": "code",
   "execution_count": 8,
   "id": "07616161",
   "metadata": {},
   "outputs": [],
   "source": [
    "#so we are going to use Search Grid to tune the hyper parameters\n",
    "from sklearn.model_selection import GridSearchCV\n",
    "#set the parameters by cross-validation\n",
    "bootstrap= [True]\n",
    "max_depth =[80, 90, 100, 110]\n",
    "max_features =[2, 3,5,12]\n",
    "min_samples_leaf =[3, 4, 5]\n",
    "min_samples_split =[5,8, 10, 12]\n",
    "n_estimators =[5,100, 200, 300, 1000] \n",
    "criterion='entropy'\n",
    "\n",
    "param_grid = dict(max_depth=max_depth, n_estimators=n_estimators)\n"
   ]
  },
  {
   "cell_type": "code",
   "execution_count": 9,
   "id": "f991ecb0",
   "metadata": {},
   "outputs": [
    {
     "data": {
      "text/plain": [
       "GridSearchCV(cv=5,\n",
       "             estimator=RandomForestClassifier(n_estimators=[5, 100, 200, 300,\n",
       "                                                            1000],\n",
       "                                              random_state=0),\n",
       "             param_grid={'max_depth': [80, 90, 100, 110],\n",
       "                         'n_estimators': [5, 100, 200, 300, 1000]})"
      ]
     },
     "execution_count": 9,
     "metadata": {},
     "output_type": "execute_result"
    }
   ],
   "source": [
    "# Create a random forest Classifier\n",
    "dfrst = RandomForestClassifier(n_estimators=n_estimators,random_state=0)\n",
    "# Instantiate the grid search model\n",
    "grid = GridSearchCV(estimator=dfrst, param_grid=param_grid, cv = 5)\n",
    "#here I am going to train  the model\n",
    "grid.fit(X_train, y_train)"
   ]
  },
  {
   "cell_type": "code",
   "execution_count": 10,
   "id": "494c1473",
   "metadata": {},
   "outputs": [
    {
     "name": "stdout",
     "output_type": "stream",
     "text": [
      "[0 0 0 0 0 4 0 0 0 0 0 0 0 0 0 0 0 0 0 0 0 0 0 4 0 0 0 0 0 0 0 0 0 0 0 0 0\n",
      " 4 0 0 0 0 0 4 0 0 0 0 0 0 0 0 0 0 0 0 0 0 3 0 0 0 0 0 0 0 4 0 1 0 0 0 4 0\n",
      " 0 3 0 0 0 0 0 0 0 0 0 0 0 0 0 3 0 0 0 0 0 0 0 0 0 0 0 0 0 0 0 3 0 4 0 3 0\n",
      " 0 0 0 0 0 0 0 0 0 0 3 0]\n"
     ]
    }
   ],
   "source": [
    "# Extract the best decision forest \n",
    "best_clf = grid.best_estimator_\n",
    "yhat = grid.predict(X_test)\n",
    "print(yhat)"
   ]
  },
  {
   "cell_type": "code",
   "execution_count": 11,
   "id": "37b8934a",
   "metadata": {},
   "outputs": [
    {
     "name": "stdout",
     "output_type": "stream",
     "text": [
      "accuracy =  0.926829268292683\n",
      "precision =  0.572520751419834\n"
     ]
    },
    {
     "name": "stderr",
     "output_type": "stream",
     "text": [
      "C:\\Users\\ZenBook\\anaconda3\\lib\\site-packages\\sklearn\\metrics\\_classification.py:1248: UndefinedMetricWarning: Precision is ill-defined and being set to 0.0 in labels with no predicted samples. Use `zero_division` parameter to control this behavior.\n",
      "  _warn_prf(average, modifier, msg_start, len(result))\n"
     ]
    }
   ],
   "source": [
    "# To-do : evaluate the model in terms of accuracy and precision \n",
    "# Provide evidence that your model is not overfitting \n",
    "from sklearn.metrics import precision_score, accuracy_score\n",
    "print(\"accuracy = \",accuracy_score(y_test,yhat))\n",
    "print(\"precision = \",precision_score(y_test,yhat,average='macro'))\n",
    "\n"
   ]
  },
  {
   "cell_type": "markdown",
   "id": "55598bf2",
   "metadata": {},
   "source": [
    "> Hint : A Perfect accuracy on the train set suggest that we have an overfitted model So the student should be able to provide a detailed table about the hyper parameters / parameters tuning with a good conclusion stating that the model has at least an accuracy of 86% on the test set without signs of overfitting  "
   ]
  },
  {
   "cell_type": "code",
   "execution_count": 12,
   "id": "2dfee5fb",
   "metadata": {},
   "outputs": [
    {
     "name": "stdout",
     "output_type": "stream",
     "text": [
      "              precision    recall  f1-score   support\n",
      "\n",
      "           0       0.98      0.99      0.99       108\n",
      "           1       1.00      0.50      0.67         2\n",
      "           2       0.00      0.00      0.00         4\n",
      "           3       0.17      0.50      0.25         2\n",
      "           4       0.71      0.71      0.71         7\n",
      "\n",
      "    accuracy                           0.93       123\n",
      "   macro avg       0.57      0.54      0.52       123\n",
      "weighted avg       0.92      0.93      0.92       123\n",
      "\n"
     ]
    },
    {
     "name": "stderr",
     "output_type": "stream",
     "text": [
      "C:\\Users\\ZenBook\\anaconda3\\lib\\site-packages\\sklearn\\metrics\\_classification.py:1248: UndefinedMetricWarning: Precision and F-score are ill-defined and being set to 0.0 in labels with no predicted samples. Use `zero_division` parameter to control this behavior.\n",
      "  _warn_prf(average, modifier, msg_start, len(result))\n",
      "C:\\Users\\ZenBook\\anaconda3\\lib\\site-packages\\sklearn\\metrics\\_classification.py:1248: UndefinedMetricWarning: Precision and F-score are ill-defined and being set to 0.0 in labels with no predicted samples. Use `zero_division` parameter to control this behavior.\n",
      "  _warn_prf(average, modifier, msg_start, len(result))\n",
      "C:\\Users\\ZenBook\\anaconda3\\lib\\site-packages\\sklearn\\metrics\\_classification.py:1248: UndefinedMetricWarning: Precision and F-score are ill-defined and being set to 0.0 in labels with no predicted samples. Use `zero_division` parameter to control this behavior.\n",
      "  _warn_prf(average, modifier, msg_start, len(result))\n"
     ]
    }
   ],
   "source": [
    "from sklearn.metrics import classification_report\n",
    "print(classification_report(y_test,yhat))"
   ]
  },
  {
   "cell_type": "markdown",
   "id": "d9b9a41c",
   "metadata": {},
   "source": [
    "## 3. Create the summary test set with the additional predicted class column: \n",
    "In this part you need to add the predicted class as a column to your test dataframe and save this one "
   ]
  },
  {
   "cell_type": "code",
   "execution_count": 13,
   "id": "428a1032",
   "metadata": {},
   "outputs": [],
   "source": [
    "# To-Do : create the complete test dataframe : it should contain all the feature column + the actual target and the ID as wel\n",
    "df1 = df.iloc[:,0:15]\n",
    "x=np.array(df1)\n",
    "Y=df['Category']\n",
    "x_train, x_test, y_train, y_test = train_test_split(x,Y,test_size=0.2,random_state=0)\n",
    "test_df=pd.DataFrame(x_test, columns = ['ID','Category','Age', 'Sex', 'ALB', 'ALP', 'ALT', 'AST', 'BIL', 'CHE', 'CHOL', 'CREA',\n",
    "       'GGT', 'PROT', 'cluster'])"
   ]
  },
  {
   "cell_type": "code",
   "execution_count": 14,
   "id": "8292941c",
   "metadata": {},
   "outputs": [
    {
     "data": {
      "text/html": [
       "<div>\n",
       "<style scoped>\n",
       "    .dataframe tbody tr th:only-of-type {\n",
       "        vertical-align: middle;\n",
       "    }\n",
       "\n",
       "    .dataframe tbody tr th {\n",
       "        vertical-align: top;\n",
       "    }\n",
       "\n",
       "    .dataframe thead th {\n",
       "        text-align: right;\n",
       "    }\n",
       "</style>\n",
       "<table border=\"1\" class=\"dataframe\">\n",
       "  <thead>\n",
       "    <tr style=\"text-align: right;\">\n",
       "      <th></th>\n",
       "      <th>ID</th>\n",
       "      <th>Category</th>\n",
       "      <th>Age</th>\n",
       "      <th>Sex</th>\n",
       "      <th>ALB</th>\n",
       "      <th>ALP</th>\n",
       "      <th>ALT</th>\n",
       "      <th>AST</th>\n",
       "      <th>BIL</th>\n",
       "      <th>CHE</th>\n",
       "      <th>CHOL</th>\n",
       "      <th>CREA</th>\n",
       "      <th>GGT</th>\n",
       "      <th>PROT</th>\n",
       "      <th>cluster</th>\n",
       "    </tr>\n",
       "  </thead>\n",
       "  <tbody>\n",
       "    <tr>\n",
       "      <th>0</th>\n",
       "      <td>50.0</td>\n",
       "      <td>0.0</td>\n",
       "      <td>36.0</td>\n",
       "      <td>1.0</td>\n",
       "      <td>47.8</td>\n",
       "      <td>89.0</td>\n",
       "      <td>48.5</td>\n",
       "      <td>38.4</td>\n",
       "      <td>8.6</td>\n",
       "      <td>8.26</td>\n",
       "      <td>5.62</td>\n",
       "      <td>96.0</td>\n",
       "      <td>21.9</td>\n",
       "      <td>76.2</td>\n",
       "      <td>3.0</td>\n",
       "    </tr>\n",
       "    <tr>\n",
       "      <th>1</th>\n",
       "      <td>497.0</td>\n",
       "      <td>0.0</td>\n",
       "      <td>56.0</td>\n",
       "      <td>0.0</td>\n",
       "      <td>45.1</td>\n",
       "      <td>79.1</td>\n",
       "      <td>39.0</td>\n",
       "      <td>30.5</td>\n",
       "      <td>5.2</td>\n",
       "      <td>6.47</td>\n",
       "      <td>5.10</td>\n",
       "      <td>64.0</td>\n",
       "      <td>145.3</td>\n",
       "      <td>66.7</td>\n",
       "      <td>4.0</td>\n",
       "    </tr>\n",
       "    <tr>\n",
       "      <th>2</th>\n",
       "      <td>212.0</td>\n",
       "      <td>0.0</td>\n",
       "      <td>51.0</td>\n",
       "      <td>1.0</td>\n",
       "      <td>45.9</td>\n",
       "      <td>66.7</td>\n",
       "      <td>31.8</td>\n",
       "      <td>28.1</td>\n",
       "      <td>9.0</td>\n",
       "      <td>10.08</td>\n",
       "      <td>5.61</td>\n",
       "      <td>85.0</td>\n",
       "      <td>36.2</td>\n",
       "      <td>73.0</td>\n",
       "      <td>3.0</td>\n",
       "    </tr>\n",
       "    <tr>\n",
       "      <th>3</th>\n",
       "      <td>250.0</td>\n",
       "      <td>0.0</td>\n",
       "      <td>55.0</td>\n",
       "      <td>1.0</td>\n",
       "      <td>44.7</td>\n",
       "      <td>71.6</td>\n",
       "      <td>22.9</td>\n",
       "      <td>22.1</td>\n",
       "      <td>5.5</td>\n",
       "      <td>6.82</td>\n",
       "      <td>4.61</td>\n",
       "      <td>105.0</td>\n",
       "      <td>59.2</td>\n",
       "      <td>72.7</td>\n",
       "      <td>4.0</td>\n",
       "    </tr>\n",
       "    <tr>\n",
       "      <th>4</th>\n",
       "      <td>143.0</td>\n",
       "      <td>0.0</td>\n",
       "      <td>45.0</td>\n",
       "      <td>1.0</td>\n",
       "      <td>43.2</td>\n",
       "      <td>68.2</td>\n",
       "      <td>27.8</td>\n",
       "      <td>42.3</td>\n",
       "      <td>6.6</td>\n",
       "      <td>10.93</td>\n",
       "      <td>6.61</td>\n",
       "      <td>105.0</td>\n",
       "      <td>27.2</td>\n",
       "      <td>74.5</td>\n",
       "      <td>3.0</td>\n",
       "    </tr>\n",
       "  </tbody>\n",
       "</table>\n",
       "</div>"
      ],
      "text/plain": [
       "      ID  Category   Age  Sex   ALB   ALP   ALT   AST  BIL    CHE  CHOL  \\\n",
       "0   50.0       0.0  36.0  1.0  47.8  89.0  48.5  38.4  8.6   8.26  5.62   \n",
       "1  497.0       0.0  56.0  0.0  45.1  79.1  39.0  30.5  5.2   6.47  5.10   \n",
       "2  212.0       0.0  51.0  1.0  45.9  66.7  31.8  28.1  9.0  10.08  5.61   \n",
       "3  250.0       0.0  55.0  1.0  44.7  71.6  22.9  22.1  5.5   6.82  4.61   \n",
       "4  143.0       0.0  45.0  1.0  43.2  68.2  27.8  42.3  6.6  10.93  6.61   \n",
       "\n",
       "    CREA    GGT  PROT  cluster  \n",
       "0   96.0   21.9  76.2      3.0  \n",
       "1   64.0  145.3  66.7      4.0  \n",
       "2   85.0   36.2  73.0      3.0  \n",
       "3  105.0   59.2  72.7      4.0  \n",
       "4  105.0   27.2  74.5      3.0  "
      ]
     },
     "execution_count": 14,
     "metadata": {},
     "output_type": "execute_result"
    }
   ],
   "source": [
    "test_df.head()"
   ]
  },
  {
   "cell_type": "code",
   "execution_count": 15,
   "id": "3d90512a",
   "metadata": {},
   "outputs": [],
   "source": [
    "# To-Do : Add the predicted_class column \n",
    "test_df[\"Predicted_class\"] = grid.predict(X_test)"
   ]
  },
  {
   "cell_type": "code",
   "execution_count": 16,
   "id": "1d81bd95",
   "metadata": {},
   "outputs": [
    {
     "data": {
      "text/html": [
       "<div>\n",
       "<style scoped>\n",
       "    .dataframe tbody tr th:only-of-type {\n",
       "        vertical-align: middle;\n",
       "    }\n",
       "\n",
       "    .dataframe tbody tr th {\n",
       "        vertical-align: top;\n",
       "    }\n",
       "\n",
       "    .dataframe thead th {\n",
       "        text-align: right;\n",
       "    }\n",
       "</style>\n",
       "<table border=\"1\" class=\"dataframe\">\n",
       "  <thead>\n",
       "    <tr style=\"text-align: right;\">\n",
       "      <th></th>\n",
       "      <th>ID</th>\n",
       "      <th>Category</th>\n",
       "      <th>Age</th>\n",
       "      <th>Sex</th>\n",
       "      <th>ALB</th>\n",
       "      <th>ALP</th>\n",
       "      <th>ALT</th>\n",
       "      <th>AST</th>\n",
       "      <th>BIL</th>\n",
       "      <th>CHE</th>\n",
       "      <th>CHOL</th>\n",
       "      <th>CREA</th>\n",
       "      <th>GGT</th>\n",
       "      <th>PROT</th>\n",
       "      <th>cluster</th>\n",
       "      <th>Predicted_class</th>\n",
       "    </tr>\n",
       "  </thead>\n",
       "  <tbody>\n",
       "    <tr>\n",
       "      <th>0</th>\n",
       "      <td>50.0</td>\n",
       "      <td>0.0</td>\n",
       "      <td>36.0</td>\n",
       "      <td>1.0</td>\n",
       "      <td>47.8</td>\n",
       "      <td>89.0</td>\n",
       "      <td>48.5</td>\n",
       "      <td>38.4</td>\n",
       "      <td>8.6</td>\n",
       "      <td>8.26</td>\n",
       "      <td>5.62</td>\n",
       "      <td>96.0</td>\n",
       "      <td>21.9</td>\n",
       "      <td>76.2</td>\n",
       "      <td>3.0</td>\n",
       "      <td>0</td>\n",
       "    </tr>\n",
       "    <tr>\n",
       "      <th>1</th>\n",
       "      <td>497.0</td>\n",
       "      <td>0.0</td>\n",
       "      <td>56.0</td>\n",
       "      <td>0.0</td>\n",
       "      <td>45.1</td>\n",
       "      <td>79.1</td>\n",
       "      <td>39.0</td>\n",
       "      <td>30.5</td>\n",
       "      <td>5.2</td>\n",
       "      <td>6.47</td>\n",
       "      <td>5.10</td>\n",
       "      <td>64.0</td>\n",
       "      <td>145.3</td>\n",
       "      <td>66.7</td>\n",
       "      <td>4.0</td>\n",
       "      <td>0</td>\n",
       "    </tr>\n",
       "    <tr>\n",
       "      <th>2</th>\n",
       "      <td>212.0</td>\n",
       "      <td>0.0</td>\n",
       "      <td>51.0</td>\n",
       "      <td>1.0</td>\n",
       "      <td>45.9</td>\n",
       "      <td>66.7</td>\n",
       "      <td>31.8</td>\n",
       "      <td>28.1</td>\n",
       "      <td>9.0</td>\n",
       "      <td>10.08</td>\n",
       "      <td>5.61</td>\n",
       "      <td>85.0</td>\n",
       "      <td>36.2</td>\n",
       "      <td>73.0</td>\n",
       "      <td>3.0</td>\n",
       "      <td>0</td>\n",
       "    </tr>\n",
       "    <tr>\n",
       "      <th>3</th>\n",
       "      <td>250.0</td>\n",
       "      <td>0.0</td>\n",
       "      <td>55.0</td>\n",
       "      <td>1.0</td>\n",
       "      <td>44.7</td>\n",
       "      <td>71.6</td>\n",
       "      <td>22.9</td>\n",
       "      <td>22.1</td>\n",
       "      <td>5.5</td>\n",
       "      <td>6.82</td>\n",
       "      <td>4.61</td>\n",
       "      <td>105.0</td>\n",
       "      <td>59.2</td>\n",
       "      <td>72.7</td>\n",
       "      <td>4.0</td>\n",
       "      <td>0</td>\n",
       "    </tr>\n",
       "    <tr>\n",
       "      <th>4</th>\n",
       "      <td>143.0</td>\n",
       "      <td>0.0</td>\n",
       "      <td>45.0</td>\n",
       "      <td>1.0</td>\n",
       "      <td>43.2</td>\n",
       "      <td>68.2</td>\n",
       "      <td>27.8</td>\n",
       "      <td>42.3</td>\n",
       "      <td>6.6</td>\n",
       "      <td>10.93</td>\n",
       "      <td>6.61</td>\n",
       "      <td>105.0</td>\n",
       "      <td>27.2</td>\n",
       "      <td>74.5</td>\n",
       "      <td>3.0</td>\n",
       "      <td>0</td>\n",
       "    </tr>\n",
       "  </tbody>\n",
       "</table>\n",
       "</div>"
      ],
      "text/plain": [
       "      ID  Category   Age  Sex   ALB   ALP   ALT   AST  BIL    CHE  CHOL  \\\n",
       "0   50.0       0.0  36.0  1.0  47.8  89.0  48.5  38.4  8.6   8.26  5.62   \n",
       "1  497.0       0.0  56.0  0.0  45.1  79.1  39.0  30.5  5.2   6.47  5.10   \n",
       "2  212.0       0.0  51.0  1.0  45.9  66.7  31.8  28.1  9.0  10.08  5.61   \n",
       "3  250.0       0.0  55.0  1.0  44.7  71.6  22.9  22.1  5.5   6.82  4.61   \n",
       "4  143.0       0.0  45.0  1.0  43.2  68.2  27.8  42.3  6.6  10.93  6.61   \n",
       "\n",
       "    CREA    GGT  PROT  cluster  Predicted_class  \n",
       "0   96.0   21.9  76.2      3.0                0  \n",
       "1   64.0  145.3  66.7      4.0                0  \n",
       "2   85.0   36.2  73.0      3.0                0  \n",
       "3  105.0   59.2  72.7      4.0                0  \n",
       "4  105.0   27.2  74.5      3.0                0  "
      ]
     },
     "execution_count": 16,
     "metadata": {},
     "output_type": "execute_result"
    }
   ],
   "source": [
    "test_df.head()\n"
   ]
  },
  {
   "cell_type": "markdown",
   "id": "485bf1ca",
   "metadata": {},
   "source": [
    "> Make sure you have 16 column in this test set  "
   ]
  },
  {
   "cell_type": "code",
   "execution_count": 17,
   "id": "b631bd99",
   "metadata": {},
   "outputs": [
    {
     "data": {
      "text/plain": [
       "(123, 16)"
      ]
     },
     "execution_count": 17,
     "metadata": {},
     "output_type": "execute_result"
    }
   ],
   "source": [
    "test_df.shape"
   ]
  },
  {
   "cell_type": "code",
   "execution_count": 18,
   "id": "a0f354df",
   "metadata": {},
   "outputs": [],
   "source": [
    "# Save the test set \n",
    "test_df.to_csv(\"test_summary.csv\",index=False)"
   ]
  },
  {
   "cell_type": "code",
   "execution_count": 16,
   "id": "3438b377",
   "metadata": {},
   "outputs": [],
   "source": []
  },
  {
   "cell_type": "code",
   "execution_count": null,
   "id": "fea4e985",
   "metadata": {},
   "outputs": [],
   "source": []
  }
 ],
 "metadata": {
  "kernelspec": {
   "display_name": "Python 3 (ipykernel)",
   "language": "python",
   "name": "python3"
  },
  "language_info": {
   "codemirror_mode": {
    "name": "ipython",
    "version": 3
   },
   "file_extension": ".py",
   "mimetype": "text/x-python",
   "name": "python",
   "nbconvert_exporter": "python",
   "pygments_lexer": "ipython3",
   "version": "3.9.7"
  }
 },
 "nbformat": 4,
 "nbformat_minor": 5
}
